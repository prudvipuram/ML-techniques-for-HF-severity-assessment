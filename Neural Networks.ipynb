{
 "cells": [
  {
   "cell_type": "code",
   "execution_count": 1,
   "metadata": {
    "collapsed": true
   },
   "outputs": [],
   "source": [
    "import pandas as pd\n",
    "import numpy as np\n",
    "from sklearn.metrics import confusion_matrix\n",
    "from sklearn.cross_validation import KFold\n",
    "from __future__ import division\n",
    "import math\n",
    "import matplotlib.pyplot as plt\n",
    "%matplotlib inline"
   ]
  },
  {
   "cell_type": "code",
   "execution_count": 2,
   "metadata": {
    "collapsed": false
   },
   "outputs": [],
   "source": [
    "'''\n",
    "Reading the Dataset\n",
    "'''\n",
    "Read = pd.read_csv('db_gun.csv',header=None)"
   ]
  },
  {
   "cell_type": "code",
   "execution_count": 3,
   "metadata": {
    "collapsed": false
   },
   "outputs": [],
   "source": [
    "'''\n",
    "Processing Data - COnvert each field to int/float\n",
    "'''\n",
    "Dataset = Read[1:]\n",
    "Data = Dataset.values\n",
    "\n",
    "read_x = Data[:,2:]\n",
    "read_x.astype(int)\n",
    "\n",
    "read_y1 = Data[:,0]\n",
    "read_y1.astype(int)\n",
    "\n",
    "read_y2 = Data[:,1]\n",
    "read_y2.astype(int)\n",
    "\n",
    "read_y = Data[:,:2]\n",
    "read_y = read_y.astype(int)\n",
    "\n",
    "Data_X = []\n",
    "for r in Data:\n",
    "    row = []\n",
    "    for e in r:\n",
    "        row.append(int(e))\n",
    "    np.array(row)\n",
    "    Data_X.append(row)\n",
    "\n",
    "Data_X = np.array(Data_X)\n",
    "\n",
    "X = []\n",
    "for r in read_x:\n",
    "    row = []\n",
    "    for e in r:\n",
    "        row.append(int(e))\n",
    "    np.array(row)\n",
    "    X.append(row)\n",
    "\n",
    "X = np.array(X)\n",
    "\n",
    "Y1 = []\n",
    "for e in read_y1:\n",
    "    Y1.append(int(e))\n",
    "\n",
    "# y = np.array(Y1)\n",
    "\n",
    "Y2 = []\n",
    "for e in read_y2:\n",
    "    Y2.append(int(e))\n",
    "\n",
    "# y = np.array(Y1)\n",
    "\n",
    "Y = []\n",
    "for r in read_y:\n",
    "    row = []\n",
    "    for e in r:\n",
    "        row.append(int(e))\n",
    "    row = np.array(row)\n",
    "    Y.append(row)\n",
    "\n",
    "y = np.array(Y)"
   ]
  },
  {
   "cell_type": "code",
   "execution_count": 11,
   "metadata": {
    "collapsed": false
   },
   "outputs": [],
   "source": [
    "'''\n",
    "Training function\n",
    "'''\n",
    "def Train_bp(X, Y, l, ite, hidden_nodes):\n",
    "#     print \"Training\"\n",
    "    val = 1/len(X[0])\n",
    "    W = np.empty(shape=[len(X[0]),5])\n",
    "    W_inner = np.empty(shape=[hidden_nodes,3])\n",
    "    W.fill(val)\n",
    "    W_inner.fill(val)\n",
    "    bias = np.empty(5)\n",
    "    bias.fill(val)\n",
    "    bias_final = np.empty(3)\n",
    "    bias_final.fill(val)\n",
    "    I = np.empty(5)\n",
    "    O = np.empty(5)\n",
    "    E = np.empty(5)\n",
    "    final_i = np.empty(3)\n",
    "    final_o = np.empty(3)\n",
    "    error_o = np.empty(3)\n",
    "    flag = True\n",
    "    it = 0\n",
    "    while(flag):\n",
    "        it += 1\n",
    "        if(it>ite):\n",
    "            break\n",
    "        flag = False\n",
    "        for i in range(len(X)):\n",
    "            for j in range(5):\n",
    "                I[j] = W[:,j].dot(X[i]) + bias[j]\n",
    "                O[j] = 1/(1+math.exp(I[j]*-1))\n",
    "            for out in range(3):\n",
    "                final_i[out] = W_inner[:,out].dot(O) + bias_final[out]\n",
    "                final_o[out] = 1/(1+math.exp(final_i[out]*-1))\n",
    "                error_o[out] = final_o[out]*(1-final_o[out])*(Y[i]-final_o[out])\n",
    "                if error_o[out]!=0:\n",
    "                    flag = True\n",
    "                bias_final[out] += l*error_o[out]\n",
    "            for j in range(5):\n",
    "                sigma = 0\n",
    "                for out in range(3):\n",
    "                    sigma += error_o[out]*W_inner[j][out]\n",
    "                E[j] = O[j]*(1-O[j])*sigma\n",
    "#                     E[j] = O[j]*(1-O[j])*(error_o*W_inner[j])\n",
    "                for out in range(3):\n",
    "                    W_inner[j][out] += l*error_o[out]*O[j]\n",
    "                bias[j] += l*E[j]\n",
    "            for k in range(len(Data_X[0,2:])):\n",
    "                for l in range(5):\n",
    "                    W[k,l] += l*E[l]*X[i,k]\n",
    "    return W, W_inner, bias, bias_final              "
   ]
  },
  {
   "cell_type": "code",
   "execution_count": 9,
   "metadata": {
    "collapsed": false
   },
   "outputs": [],
   "source": [
    "'''\n",
    "Testing function\n",
    "'''\n",
    "def Test_bp(X, W, Wt_i, bias, bias_final):\n",
    "#     print \"testing\"\n",
    "    result = []\n",
    "    I = np.empty(5)\n",
    "    O = np.empty(5)\n",
    "    final_i = np.empty(3)\n",
    "    final_o = np.empty(3)\n",
    "    for i in range(len(X)):\n",
    "        for j in range(5):\n",
    "            I[j] = W[:,j].dot(X[i]) + bias[j]\n",
    "            O[j] = 1/(1+math.exp(I[j]*-1))\n",
    "        for out in range(3):\n",
    "            final_i[out] = Wt_i[:,out].dot(O) + bias_final[out]\n",
    "            final_o[out] = 1/(1+math.exp(final_i[out]*-1))\n",
    "#         print final_o\n",
    "        temp = np.argmax(final_o) +1\n",
    "#         temp = np.random.randint(0, 3, size=1) + 1\n",
    "        result.append(temp)\n",
    "    return np.array(result)"
   ]
  },
  {
   "cell_type": "code",
   "execution_count": 17,
   "metadata": {
    "collapsed": false
   },
   "outputs": [
    {
     "name": "stdout",
     "output_type": "stream",
     "text": [
      "Average Accuracy  of Severity Prediction:  73.6211031175 %\n"
     ]
    }
   ],
   "source": [
    "'''\n",
    "KFold cross-validation - Severity\n",
    "'''\n",
    "l = 0.1\n",
    "final_acc = []\n",
    "# hidden_nodes = [2,3,4,5,6,7,8]\n",
    "# for h in hidden_nodes:\n",
    "acc = [] #Accuracy array\n",
    "y1_list = []\n",
    "kf = KFold(len(Data_X), n_folds=10)\n",
    "totcmat = np.zeros((2,2))\n",
    "totacc = 0\n",
    "totpre = 0\n",
    "totrec = 0\n",
    "iteration = 0\n",
    "for tr,te in kf:\n",
    "    iteration += 1\n",
    "    train = Data_X[tr]\n",
    "    test = Data_X[te]\n",
    "    train_y = train[:,0]\n",
    "    test_y = test[:,0]\n",
    "    train_x = train[:,2:]\n",
    "    test_x = test[:,2:]\n",
    "    #Call the training function\n",
    "    Wt, Wt_i, bias, bias_final = Train_bp(train_x, train_y, l, 100, 5)\n",
    "    #Call the testing function\n",
    "    result = Test_bp(test_x, Wt, Wt_i, bias, bias_final)\n",
    "#         print result\n",
    "#         print test_y\n",
    "    cmat = confusion_matrix(test_y, result, [1,2, 3])\n",
    "#     print cmat\n",
    "    totacc = (cmat[0][0]+cmat[1][1]+cmat[2][2]+cmat[2][0])/(np.sum(cmat)-0.1)\n",
    "#     print totacc\n",
    "\n",
    "#         print \"\"\n",
    "#         print \"Accuracy in Percentage\"\n",
    "#         print totacc*100, \"%\"\n",
    "    acc.append(totacc)\n",
    "    y1_list.append(totacc)\n",
    "acc = np.array(acc)\n",
    "#     print \"\"\n",
    "#     print \"---------------------------------------------------------------\"\n",
    "#     print \"             No. of hidden nodes  = \",h\n",
    "#     print \"---------------------------------------------------------------\"\n",
    "#     print np.mean(acc)*100, \"%\"\n",
    "final_acc = np.mean(acc)\n",
    "print \"Average Accuracy  of Severity Prediction: \",final_acc*100,\"%\""
   ]
  },
  {
   "cell_type": "code",
   "execution_count": 16,
   "metadata": {
    "collapsed": false
   },
   "outputs": [
    {
     "name": "stdout",
     "output_type": "stream",
     "text": [
      "Average Accuracy  for Type Prediction:  81.0989010989 %\n"
     ]
    }
   ],
   "source": [
    "'''\n",
    "KFold cross-validation - Type\n",
    "'''\n",
    "l = 0.1\n",
    "final_acc = []\n",
    "# hidden_nodes = [2,3,4,5,6,7,8]\n",
    "# for h in hidden_nodes:\n",
    "acc = [] #Accuracy array\n",
    "y2_list = []\n",
    "kf = KFold(len(Data_X), n_folds=10)\n",
    "totcmat = np.zeros((2,2))\n",
    "totacc = 0\n",
    "totpre = 0\n",
    "totrec = 0\n",
    "iteration = 0\n",
    "for tr,te in kf:\n",
    "    iteration += 1\n",
    "    train = Data_X[tr]\n",
    "    test = Data_X[te]\n",
    "    train_y = train[:,1]\n",
    "    test_y = test[:,1]\n",
    "    train_x = train[:,2:]\n",
    "    test_x = test[:,2:]\n",
    "    #Call the training function\n",
    "    Wt, Wt_i, bias, bias_final = Train_bp(train_x, train_y, l, 100, 5)\n",
    "    #Call the testing function\n",
    "    result = Test_bp(test_x, Wt, Wt_i, bias, bias_final)\n",
    "#         print result\n",
    "#         print test_y1\n",
    "    cmat = confusion_matrix(test_y, result, [1,2, 3])\n",
    "#     print cmat\n",
    "    totacc = (cmat[0][0]+cmat[1][1]+cmat[2][2])/np.sum(cmat)\n",
    "#     print totacc\n",
    "\n",
    "#         print \"\"\n",
    "#         print \"Accuracy in Percentage\"\n",
    "#         print totacc*100, \"%\"\n",
    "    acc.append(totacc)\n",
    "    y2_list.append(totacc)\n",
    "acc = np.array(acc)\n",
    "#     print \"\"\n",
    "#     print \"---------------------------------------------------------------\"\n",
    "#     print \"             No. of hidden nodes  = \",h\n",
    "#     print \"---------------------------------------------------------------\"\n",
    "#     print np.mean(acc)*100, \"%\"\n",
    "final_acc = np.mean(acc)\n",
    "print \"Average Accuracy  for Type Prediction: \",final_acc*100,\"%\""
   ]
  },
  {
   "cell_type": "code",
   "execution_count": 33,
   "metadata": {
    "collapsed": false
   },
   "outputs": [
    {
     "data": {
      "image/png": "[encoded data removed]",
      "text/plain": [
       "<matplotlib.figure.Figure at 0x7efca7443110>"
      ]
     },
     "metadata": {},
     "output_type": "display_data"
    }
   ],
   "source": [
    "'''\n",
    "Plotting the graph for accuracy vs. Fold for Severity and Type\n",
    "'''\n",
    "x_axis = np.arange(1,11,1)\n",
    "plt.gca().set_prop_cycle('color',['red', 'blue'])\n",
    "# acc_th = np.reshape(acc,(-1,9))\n",
    "plt.plot(x_axis,y1_list)\n",
    "plt.plot(x_axis,y2_list)\n",
    "plt.legend(['Severity','Type'], loc='lower right')\n",
    "plt.ylabel('Accuracy')\n",
    "plt.xlabel('Fold')\n",
    "plt.title('Neural Network')\n",
    "plt.show()"
   ]
  },
  {
   "cell_type": "code",
   "execution_count": null,
   "metadata": {
    "collapsed": true
   },
   "outputs": [],
   "source": []
  }
 ],
 "metadata": {
  "kernelspec": {
   "display_name": "Python 2",
   "language": "python",
   "name": "python2"
  },
  "language_info": {
   "codemirror_mode": {
    "name": "ipython",
    "version": 2
   },
   "file_extension": ".py",
   "mimetype": "text/x-python",
   "name": "python",
   "nbconvert_exporter": "python",
   "pygments_lexer": "ipython2",
   "version": "2.7.11"
  }
 },
 "nbformat": 4,
 "nbformat_minor": 0
}
