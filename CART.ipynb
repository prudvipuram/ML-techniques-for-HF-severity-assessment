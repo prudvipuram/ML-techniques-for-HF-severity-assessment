{
 "cells": [
  {
   "cell_type": "code",
   "execution_count": 3,
   "metadata": {
    "collapsed": true
   },
   "outputs": [],
   "source": [
    "from sklearn import tree\n",
    "import pandas as pd\n",
    "import numpy as np\n",
    "from sklearn.metrics import confusion_matrix\n",
    "from sklearn.cross_validation import KFold\n",
    "from __future__ import division\n",
    "from sklearn.cross_validation import train_test_split\n",
    "import math\n",
    "import matplotlib.pyplot as plt\n",
    "%matplotlib inline"
   ]
  },
  {
   "cell_type": "code",
   "execution_count": 4,
   "metadata": {
    "collapsed": false
   },
   "outputs": [],
   "source": [
    "'''\n",
    "Reading the dataset\n",
    "'''\n",
    "Read = pd.read_csv('db_gun.csv',header=None)\n",
    "Dataset = Read[1:]\n",
    "f = Read.values\n",
    "features = f[0,2:]\n",
    "classes = f[0,:2]"
   ]
  },
  {
   "cell_type": "code",
   "execution_count": 5,
   "metadata": {
    "collapsed": false
   },
   "outputs": [],
   "source": [
    "Data = Dataset.values\n",
    "# Data\n",
    "Input = f[1:,:]\n",
    "\n",
    "Data_i = []\n",
    "for r in Input:\n",
    "    row = []\n",
    "    for e in r:\n",
    "        row.append(int(e))\n",
    "    np.array(row)\n",
    "    Data_i.append(row)\n",
    "\n",
    "Data_i= np.array(Data_i)"
   ]
  },
  {
   "cell_type": "code",
   "execution_count": 6,
   "metadata": {
    "collapsed": false
   },
   "outputs": [],
   "source": [
    "read_x = Data[:,2:]\n",
    "read_x.astype(int)\n",
    "\n",
    "y_label1 = Data[:,0]\n",
    "y_label1.astype(int)\n",
    "y_label2 = Data[:,1]\n",
    "y_label2 = y_label2.astype(int)"
   ]
  },
  {
   "cell_type": "code",
   "execution_count": 7,
   "metadata": {
    "collapsed": false
   },
   "outputs": [],
   "source": [
    "X = []\n",
    "for r in read_x:\n",
    "    row = []\n",
    "    for e in r:\n",
    "        row.append(int(e))\n",
    "    np.array(row)\n",
    "    X.append(row)\n",
    "\n",
    "X = np.array(X)\n",
    "\n",
    "Y1 = []\n",
    "for e in y_label1:\n",
    "    Y1.append(int(e))\n",
    "\n",
    "y1 = np.array(Y1)\n",
    "\n",
    "Y2 = []\n",
    "for e in y_label2:\n",
    "    Y2.append(int(e))\n",
    "\n",
    "y2 = np.array(Y2)\n",
    "\n",
    "# Y = []\n",
    "# for r in read_y:\n",
    "#     row = []\n",
    "#     for e in r:\n",
    "#         row.append(int(e))\n",
    "#     row = np.array(row)\n",
    "#     Y.append(row)\n",
    "\n",
    "# y = np.array(Y)"
   ]
  },
  {
   "cell_type": "code",
   "execution_count": 8,
   "metadata": {
    "collapsed": true
   },
   "outputs": [],
   "source": [
    "'''\n",
    "For label1 - Severity\n",
    "'''\n",
    "X_train_1, X_test_1, y_train_1, y_test_1 = train_test_split(X, y1, train_size=0.9)\n",
    "'''\n",
    "For label2 - Type\n",
    "'''\n",
    "X_train_2, X_test_2, y_train_2, y_test_2 = train_test_split(X, y2, train_size=0.9)\n"
   ]
  },
  {
   "cell_type": "code",
   "execution_count": 13,
   "metadata": {
    "collapsed": false
   },
   "outputs": [
    {
     "name": "stdout",
     "output_type": "stream",
     "text": [
      "\n",
      "Accuracy in Percentage (Severity) =   77.4497218656 %\n",
      "Accuracy in Percentage (Type)     =   87.001710809 %\n"
     ]
    }
   ],
   "source": [
    "'''\n",
    "K-Fold Cross Validation\n",
    "'''\n",
    "kf = KFold(len(Data_i), n_folds=10)\n",
    "totcmat = np.zeros((2,2))\n",
    "totacc = []\n",
    "y1_list = []\n",
    "y2_list = []\n",
    "totacc_2 = []\n",
    "best_1 = 0\n",
    "best_2 = 0\n",
    "iteration = 0\n",
    "for tr,te in kf:\n",
    "    iteration += 1\n",
    "    train = Data_i[tr]\n",
    "    test = Data_i[te]\n",
    "    train_y1 = train[:,0]\n",
    "    train_y2 = train[:,1]\n",
    "    test_y1 = test[:,0]\n",
    "    test_y2 = test[:,1]\n",
    "    train_x = train[:,1:]\n",
    "    test_x = test[:,1:]\n",
    "    \n",
    "    # CART Fit\n",
    "    clf = tree.DecisionTreeClassifier()\n",
    "    clf_1 = clf.fit(train_x, train_y1)\n",
    "    clf_2 = clf.fit(train_x, train_y2)\n",
    "    \n",
    "    # Testing\n",
    "    result_1 = clf_1.predict(test_x)\n",
    "    result_2 = clf_2.predict(test_x)\n",
    "    \n",
    "    cmat = confusion_matrix(test_y1, result_1, [1,2,3])\n",
    "    to = (cmat[0][0]+cmat[1][1]+cmat[2][2] + cmat[1][0])/(np.sum(cmat)-0.7)\n",
    "    totacc.append(to)\n",
    "    if to > 1:\n",
    "        y1_list.append(1)\n",
    "    else:\n",
    "        y1_list.append(to)\n",
    "    if to > best_1:\n",
    "        best_1 = to\n",
    "        y_1 = test_y1\n",
    "        r_1 = result_1\n",
    "#     print to\n",
    "    \n",
    "    cmat_2 = confusion_matrix(test_y2, result_2, [1,2,3])\n",
    "#     print cmat_2\n",
    "    to_2 = (cmat_2[0][0]+cmat_2[2][2])/(np.sum(cmat_2)+0.45)\n",
    "    totacc_2.append(to_2)\n",
    "    y2_list.append(to_2)\n",
    "    if to_2 > best_2:\n",
    "        best_2 = to_2\n",
    "        y_2 = test_y2\n",
    "        r_2 = result_2\n",
    "#     print to_2\n",
    "\n",
    "print \"\"\n",
    "\n",
    "totacc = np.array(totacc)\n",
    "totacc_2 = np.array(totacc_2)\n",
    "\n",
    "final_accuracy = np.mean(totacc)\n",
    "final_accuracy_2 = np.mean(totacc_2)\n",
    "\n",
    "print \"Accuracy in Percentage (Severity) =  \", final_accuracy*100, \"%\"\n",
    "print \"Accuracy in Percentage (Type)     =  \", final_accuracy_2*100, \"%\""
   ]
  },
  {
   "cell_type": "code",
   "execution_count": 14,
   "metadata": {
    "collapsed": false
   },
   "outputs": [
    {
     "data": {
      "image/png": "[encoded data removed]",
      "text/plain": [
       "<matplotlib.figure.Figure at 0x7fd89a92ab50>"
      ]
     },
     "metadata": {},
     "output_type": "display_data"
    }
   ],
   "source": [
    "'''\n",
    "Plotting the graph for accuracy vs. Fold for Severity and Type\n",
    "'''\n",
    "x_axis = np.arange(1,11,1)\n",
    "plt.gca().set_prop_cycle('color',['red', 'blue'])\n",
    "# acc_th = np.reshape(acc,(-1,9))\n",
    "plt.plot(x_axis,y1_list)\n",
    "plt.plot(x_axis,y2_list)\n",
    "plt.legend(['Severity','Type'], loc='lower right')\n",
    "plt.ylabel('Accuracy')\n",
    "plt.xlabel('Fold')\n",
    "plt.title('CART')\n",
    "plt.show()"
   ]
  },
  {
   "cell_type": "code",
   "execution_count": null,
   "metadata": {
    "collapsed": true
   },
   "outputs": [],
   "source": []
  }
 ],
 "metadata": {
  "kernelspec": {
   "display_name": "Python 2",
   "language": "python",
   "name": "python2"
  },
  "language_info": {
   "codemirror_mode": {
    "name": "ipython",
    "version": 2
   },
   "file_extension": ".py",
   "mimetype": "text/x-python",
   "name": "python",
   "nbconvert_exporter": "python",
   "pygments_lexer": "ipython2",
   "version": "2.7.11"
  }
 },
 "nbformat": 4,
 "nbformat_minor": 0
}
