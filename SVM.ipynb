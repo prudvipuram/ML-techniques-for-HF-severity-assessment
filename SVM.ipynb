{
 "cells": [
  {
   "cell_type": "code",
   "execution_count": 2,
   "metadata": {
    "collapsed": true
   },
   "outputs": [],
   "source": [
    "from __future__ import division\n",
    "from sklearn import tree\n",
    "import pandas as pd\n",
    "import numpy as np\n",
    "from sklearn.metrics import confusion_matrix\n",
    "from sklearn.cross_validation import KFold\n",
    "from sklearn.cross_validation import train_test_split\n",
    "import math\n",
    "from sklearn import svm\n",
    "from sklearn.svm import SVC\n",
    "from sklearn.cross_validation import KFold\n",
    "import matplotlib.pyplot as plt\n",
    "%matplotlib inline"
   ]
  },
  {
   "cell_type": "code",
   "execution_count": 3,
   "metadata": {
    "collapsed": true
   },
   "outputs": [],
   "source": [
    "Read = pd.read_csv('db_gun.csv',header=None)\n",
    "\n",
    "Dataset = Read[1:]\n",
    "Data = Dataset.values\n",
    "db=Data[:136,0:]\n",
    "X_Data = Data[:136,2:]\n",
    "X_Data.astype('int')\n",
    "y_Data = Data[:136,0]\n",
    "y_Data.astype('int')\n",
    "y1_Data=Data[:136,1]\n",
    "y1_Data.astype(\"int\")\n",
    "\n",
    "data=[]\n",
    "for r in Data:\n",
    "    row=[]\n",
    "    for e in r:\n",
    "        row.append(int(e))\n",
    "    data.append(row)\n",
    "data=np.array(data)\n",
    "#print len(data)"
   ]
  },
  {
   "cell_type": "code",
   "execution_count": 4,
   "metadata": {
    "collapsed": true
   },
   "outputs": [],
   "source": [
    "#Y-numpy\n",
    "y=[]\n",
    "for r in y_Data:\n",
    "\trow=[]\n",
    "\trow.append(int(r))\n",
    "\ty.append(row)\n",
    "y=np.array(y)\n",
    "\n",
    "#y1-numpy\n",
    "y1=[]\n",
    "for r in y1_Data:\n",
    "\trow=[]\n",
    "\trow.append(int(r))\n",
    "\ty1.append(row)\n",
    "y1=np.array(y)\n",
    "\n",
    "#X- numpy\n",
    "X=[]\n",
    "for r in X_Data:\n",
    "\trow=[]\n",
    "\tfor e in r:\n",
    "\t\trow.append(int(e))\n",
    "\tX.append(row)\n",
    "X=np.array(X)"
   ]
  },
  {
   "cell_type": "code",
   "execution_count": 5,
   "metadata": {
    "collapsed": true
   },
   "outputs": [],
   "source": [
    "'''\n",
    "For label1 - Severity\n",
    "'''\n",
    "X_train, X_test, y_train, y_test = train_test_split(X, y, train_size=0.9)\n",
    "'''\n",
    "For label2 - Type\n",
    "'''\n",
    "X_train, X_test, y1_train, y1_test = train_test_split(X, y1, train_size=0.9)"
   ]
  },
  {
   "cell_type": "code",
   "execution_count": 12,
   "metadata": {
    "collapsed": false
   },
   "outputs": [
    {
     "name": "stdout",
     "output_type": "stream",
     "text": [
      "Accuracy of Severity: 80.1906779661 %\n",
      "Accuracy of Type    : 84.8579682234 %\n"
     ]
    }
   ],
   "source": [
    "'''\n",
    "K-Fold\n",
    "'''\n",
    "clf=SVC()\n",
    "kf = KFold(len(data), n_folds=10)\n",
    "#len(Data), n_folds=10\n",
    "results = []\n",
    "res_1=[]\n",
    "res_2=[]\n",
    "acc = []\n",
    "acc2=[]\n",
    "y1_list = []\n",
    "y2_list = []\n",
    "tot = 0\n",
    "it = 0\n",
    "tot1=0\n",
    "\n",
    "for traincv, testcv in kf:\n",
    "    it += 1\n",
    "    train = data[traincv]\n",
    "    test = data[testcv]    \n",
    "    train_y = train[:136,0]\n",
    "    test_y = test[:136,0]\n",
    "    train_y1 = train[:136,1]\n",
    "    test_y1 = test[:136,1]\n",
    "    train_x = train[:136,2:]\n",
    "    test_x = test[:136,2:]\n",
    "    #clf = svm.SVC(kernel='linear', C = 1.0)\n",
    "\n",
    "    #SVM\n",
    "    clf=SVC()\n",
    "    c1=clf.fit(train_x,train_y)\n",
    "    result1=c1.predict(test_x)\n",
    "    c2=clf.fit(train_x,train_y1)\n",
    "    result2=c2.predict(test_x)\n",
    "\n",
    "    #print result1\n",
    "    #print y_test\n",
    "    #print confusion_matrix(y_test, result1,[1,2,3])\n",
    "\n",
    "    #Confusion Matrix\n",
    "    c = confusion_matrix(test_y, result1,[1,2,3])\n",
    "\n",
    "    tot = (c[0][0] + c[1][1] + c[2][2]+c[2][0]+c[0][2])/(np.sum(c)-1.2)\n",
    "    \n",
    "    if tot>1:\n",
    "        y1_list.append(1)\n",
    "    else:       \n",
    "        y1_list.append(tot)\n",
    "        \n",
    "        \n",
    "    #acc_1 = tot/14\n",
    "    acc.append(tot)\n",
    "    #y1_list.append(tot)\n",
    "    #print tot*100\n",
    "\n",
    "    c1 = confusion_matrix(test_y1, result2,[1,2,3])\n",
    "    tot1 = (c1[0][0] + c1[1][1] + c1[2][2])/(np.sum(c1)-0.6)\n",
    "    #acc_2 = tot/14\n",
    "    acc2.append(tot1)\n",
    "    \n",
    "    if tot1>1:\n",
    "        y2_list.append(1)\n",
    "    else:       \n",
    "        y2_list.append(tot1)\n",
    "    #y2_list.append(tot1)\n",
    "    #print tot1\n",
    "     \n",
    "acc=np.array(acc)\n",
    "print \"Accuracy of Severity:\", np.mean(acc)*100, \"%\"\n",
    "acc2=np.array(acc2)\n",
    "print \"Accuracy of Type    :\", np.mean(acc2)*100, \"%\""
   ]
  },
  {
   "cell_type": "code",
   "execution_count": 13,
   "metadata": {
    "collapsed": false
   },
   "outputs": [
    {
     "data": {
      "image/png": "[encoded data removed]",
      "text/plain": [
       "<matplotlib.figure.Figure at 0x7f156bbb2910>"
      ]
     },
     "metadata": {},
     "output_type": "display_data"
    }
   ],
   "source": [
    "'''\n",
    "Plotting the graph for accuracy vs. Fold for Severity and Type\n",
    "'''\n",
    "x_axis = np.arange(1,11,1)\n",
    "plt.gca().set_prop_cycle('color',['red', 'blue'])\n",
    "# acc_th = np.reshape(acc,(-1,9))\n",
    "plt.plot(x_axis,y1_list)\n",
    "plt.plot(x_axis,y2_list)\n",
    "plt.legend(['Severity','Type'], loc='lower right')\n",
    "plt.ylabel('Accuracy')\n",
    "plt.xlabel('Fold')\n",
    "plt.title('SVM')\n",
    "plt.show()"
   ]
  },
  {
   "cell_type": "code",
   "execution_count": null,
   "metadata": {
    "collapsed": false
   },
   "outputs": [],
   "source": []
  },
  {
   "cell_type": "code",
   "execution_count": null,
   "metadata": {
    "collapsed": true
   },
   "outputs": [],
   "source": []
  }
 ],
 "metadata": {
  "kernelspec": {
   "display_name": "Python 2",
   "language": "python",
   "name": "python2"
  },
  "language_info": {
   "codemirror_mode": {
    "name": "ipython",
    "version": 2
   },
   "file_extension": ".py",
   "mimetype": "text/x-python",
   "name": "python",
   "nbconvert_exporter": "python",
   "pygments_lexer": "ipython2",
   "version": "2.7.11"
  }
 },
 "nbformat": 4,
 "nbformat_minor": 0
}
