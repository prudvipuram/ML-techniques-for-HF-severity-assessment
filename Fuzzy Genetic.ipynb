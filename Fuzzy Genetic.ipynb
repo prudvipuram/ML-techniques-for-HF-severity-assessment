{
 "cells": [
  {
   "cell_type": "code",
   "execution_count": 2,
   "metadata": {
    "collapsed": true
   },
   "outputs": [],
   "source": [
    "from random import randint, random\n",
    "from operator import add"
   ]
  },
  {
   "cell_type": "code",
   "execution_count": 3,
   "metadata": {
    "collapsed": false
   },
   "outputs": [],
   "source": [
    "import random\n",
    "import pandas as pd\n",
    "from deap import base\n",
    "from deap import creator\n",
    "from deap import tools"
   ]
  },
  {
   "cell_type": "code",
   "execution_count": 4,
   "metadata": {
    "collapsed": false
   },
   "outputs": [],
   "source": [
    "creator.create(\"FitnessMin\", base.Fitness, weights=(-1.0,))"
   ]
  },
  {
   "cell_type": "code",
   "execution_count": 5,
   "metadata": {
    "collapsed": true
   },
   "outputs": [],
   "source": [
    "toolbox = base.Toolbox()"
   ]
  },
  {
   "cell_type": "code",
   "execution_count": 6,
   "metadata": {
    "collapsed": false
   },
   "outputs": [],
   "source": [
    "creator.create(\"FitnessMax\", base.Fitness, weights=(-1.0,))\n",
    "creator.create(\"Individual\", list, fitness=creator.FitnessMin)\n",
    "\n",
    "toolbox = base.Toolbox()"
   ]
  },
  {
   "cell_type": "code",
   "execution_count": 7,
   "metadata": {
    "collapsed": true
   },
   "outputs": [],
   "source": [
    "'''\n",
    "Reading the Dataset\n",
    "'''\n",
    "Read=pd.read_csv('db_gun.csv')"
   ]
  },
  {
   "cell_type": "code",
   "execution_count": 8,
   "metadata": {
    "collapsed": false
   },
   "outputs": [],
   "source": [
    "Dataset=Read[1:]"
   ]
  },
  {
   "cell_type": "code",
   "execution_count": 9,
   "metadata": {
    "collapsed": false
   },
   "outputs": [],
   "source": [
    "Data=Dataset.values"
   ]
  },
  {
   "cell_type": "code",
   "execution_count": 10,
   "metadata": {
    "collapsed": true
   },
   "outputs": [],
   "source": [
    "Row_1=Data[1]\n",
    "attrs = random.randint"
   ]
  },
  {
   "cell_type": "code",
   "execution_count": 21,
   "metadata": {
    "collapsed": false
   },
   "outputs": [],
   "source": [
    "'''\n",
    "Dataset Processing\n",
    "'''\n",
    "Dataset = Read[1:]\n",
    "f = Read.values\n",
    "features = f[0,2:]\n",
    "classes = f[0,:2]\n",
    "Data = Dataset.values\n",
    "# Data\n",
    "Input = f[1:,:]\n",
    "\n",
    "Data_i = []\n",
    "for r in Input:\n",
    "    row = []\n",
    "    for e in r:\n",
    "        row.append(int(e))\n",
    "    np.array(row)\n",
    "    Data_i.append(row)\n",
    "\n",
    "Data_i= np.array(Data_i)\n",
    "popu = len(Data_i)"
   ]
  },
  {
   "cell_type": "code",
   "execution_count": 12,
   "metadata": {
    "collapsed": true
   },
   "outputs": [],
   "source": [
    "read_x = Data[:,2:]\n",
    "read_x.astype(int)\n",
    "\n",
    "y_label1 = Data[:,0]\n",
    "y_label1.astype(int)\n",
    "y_label2 = Data[:,1]\n",
    "y_label2 = y_label2.astype(int)"
   ]
  },
  {
   "cell_type": "code",
   "execution_count": 13,
   "metadata": {
    "collapsed": true
   },
   "outputs": [],
   "source": [
    "X = []\n",
    "for r in read_x:\n",
    "    row = []\n",
    "    for e in r:\n",
    "        row.append(int(e))\n",
    "    np.array(row)\n",
    "    X.append(row)\n",
    "\n",
    "X = np.array(X)\n",
    "\n",
    "Y1 = []\n",
    "for e in y_label1:\n",
    "    Y1.append(int(e))\n",
    "\n",
    "y1 = np.array(Y1)\n",
    "\n",
    "Y2 = []\n",
    "for e in y_label2:\n",
    "    Y2.append(int(e))\n",
    "\n",
    "y2 = np.array(Y2)"
   ]
  },
  {
   "cell_type": "code",
   "execution_count": 14,
   "metadata": {
    "collapsed": true
   },
   "outputs": [],
   "source": [
    "class Fuzzifier(object):\n",
    "    def __init__(self, genetics):\n",
    "        self.genetics = genetics\n",
    "        pass\n",
    "\n",
    "    def run(self):\n",
    "        population = self.genetics.initial()\n",
    "        print(\"population \",population)\n",
    "        while True:\n",
    "            fits_pops = [(self.genetics.fitness(ch),  ch) for ch in population]\n",
    "            if self.genetics.check_stop(fits_pops): break\n",
    "            population = self.next(fits_pops)\n",
    "            pass\n",
    "        return population\n",
    "\n",
    "    def next(self, fits):\n",
    "        parents_generator = self.genetics.parents(fits)\n",
    "        size = len(fits)\n",
    "        nexts = []\n",
    "        while len(nexts) < size:\n",
    "            parents = next(parents_generator)\n",
    "            cross = random.random() < self.genetics.probability_crossover()\n",
    "            children = self.genetics.crossover(parents) if cross else parents\n",
    "            for ch in children:\n",
    "                mutate = random.random() < self.genetics.probability_mutation()\n",
    "                nexts.append(self.genetics.mutation(ch) if mutate else ch)\n",
    "                pass\n",
    "            pass\n",
    "        return nexts[0:size]\n",
    "    pass"
   ]
  },
  {
   "cell_type": "code",
   "execution_count": 16,
   "metadata": {
    "collapsed": false
   },
   "outputs": [],
   "source": [
    "class GeneticFunctions(object):\n",
    "    def probability_crossover(self):\n",
    "        r\"\"\"returns rate of occur crossover(0.0-1.0)\"\"\"\n",
    "        return 0.25\n",
    "\n",
    "    def probability_mutation(self):\n",
    "        r\"\"\"returns rate of occur mutation(0.0-1.0)\"\"\"\n",
    "        return 0.1\n",
    "\n",
    "    def initial(self):\n",
    "        r\"\"\"returns list of initial population\n",
    "        \"\"\"\n",
    "        return self.population\n",
    "\n",
    "    def fitness(self, chromosome):\n",
    "        r\"\"\"returns domain fitness value of chromosome\n",
    "        \"\"\"\n",
    "        return len(chromosome)\n",
    "\n",
    "    def check_stop(self, fits_populations):\n",
    "        r\"\"\"stop run if returns True\n",
    "        - fits_populations: list of (fitness_value, chromosome)\n",
    "        \"\"\"\n",
    "        return False\n",
    "\n",
    "    def parents(self, fits_populations):\n",
    "        r\"\"\"generator of selected parents\n",
    "        \"\"\"\n",
    "        gen = iter(sorted(fits_populations))\n",
    "        while True:\n",
    "            f1, ch1 = next(gen)\n",
    "            f2, ch2 = next(gen)\n",
    "            yield (ch1, ch2)\n",
    "            pass\n",
    "        return\n",
    "\n",
    "    def crossover(self, parents):\n",
    "        r\"\"\"breed children\n",
    "        \"\"\"\n",
    "        return parents\n",
    "\n",
    "    def mutation(self, chromosome):\n",
    "        r\"\"\"mutate chromosome\n",
    "        \"\"\"\n",
    "        return chromosome\n",
    "    pass\n",
    "\n",
    "if __name__ == \"__main__\":\n",
    "    \"\"\"\n",
    "    example: Mapped guess prepared Text\n",
    "    \"\"\"\n",
    "    class toolbox(GeneticFunctions):\n",
    "        def __init__(self, target_text,\n",
    "                     limit=200, size=400,\n",
    "                     prob_crossover=0.9, prob_mutation=0.2):\n",
    "            self.target = self.text2chromo(target_text)\n",
    "            self.counter = 0\n",
    "\n",
    "            self.limit = limit\n",
    "            self.size = size\n",
    "            self.prob_crossover = prob_crossover\n",
    "            self.prob_mutation = prob_mutation\n",
    "            pass\n",
    "\n",
    "        # GeneticFunctions interface impls\n",
    "        def probability_crossover(self):\n",
    "            return self.prob_crossover\n",
    "\n",
    "        def probability_mutation(self):\n",
    "            return self.prob_mutation\n",
    "\n",
    "        def initial(self):\n",
    "            return [self.random_chromo() for j in range(self.size)]\n",
    "\n",
    "        def fitness(self, chromo):\n",
    "            # larger is better, matched == 0\n",
    "            return 1/(sum(abs(c - t) for c, t in zip(chromo, self.target)))\n",
    "\n",
    "        def check_stop(self, fits_populations):\n",
    "            self.counter += 1\n",
    "            if self.counter % 10 == 0:\n",
    "                best_match = list(sorted(fits_populations))[-1][1]\n",
    "                fits = [f for f, ch in fits_populations]\n",
    "                best = max(fits)\n",
    "                worst = min(fits)\n",
    "                ave = sum(fits) / len(fits)\n",
    "#                 print(\n",
    "#                     \"[G %3d] score=(%4d, %4d, %4d): %r\" %\n",
    "#                     (self.counter, best, ave, worst,\n",
    "#                      self.chromo2text(best_match)))\n",
    "                pass\n",
    "            return self.counter >= self.limit\n",
    "\n",
    "        def parents(self, fits_populations):\n",
    "            while True:\n",
    "                father = self.tournament(fits_populations)\n",
    "                mother = self.tournament(fits_populations)\n",
    "                yield (father, mother)\n",
    "                pass\n",
    "            pass\n",
    "\n",
    "        def crossover(self, parents):\n",
    "            father, mother = parents\n",
    "            index1 = random.randint(1, len(self.target) - 2)\n",
    "            index2 = random.randint(1, len(self.target) - 2)\n",
    "            if index1 > index2: index1, index2 = index2, index1\n",
    "            child1 = father[:index1] + mother[index1:index2] + father[index2:]\n",
    "            child2 = mother[:index1] + father[index1:index2] + mother[index2:]\n",
    "            return (child1, child2)\n",
    "\n",
    "        def mutation(self, chromosome):\n",
    "            index = random.randint(0, len(self.target) - 1)\n",
    "            vary = random.randint(-5, 5)\n",
    "            mutated = list(chromosome)\n",
    "            mutated[index] += vary\n",
    "            return mutated\n",
    "\n",
    "        # internals\n",
    "        def tournament(self, fits_populations):\n",
    "            alicef, alice = self.select_random(fits_populations)\n",
    "            bobf, bob = self.select_random(fits_populations)\n",
    "            return alice if alicef > bobf else bob\n",
    "\n",
    "        def select_random(self, fits_populations):\n",
    "            return fits_populations[random.randint(0, len(fits_populations)-1)]\n",
    "\n",
    "        def text2chromo(self, text):\n",
    "            return [ord(ch) for ch in text]\n",
    "        def chromo2text(self, chromo):\n",
    "            return \"\".join(chr(max(1, min(ch, 255))) for ch in chromo)\n",
    "\n",
    "        def random_chromo(self):\n",
    "            return data[1]\n",
    "        pass\n",
    "\n",
    "#     GeneticAlgorithm(toolbox()).run()\n",
    "    pass\n",
    " "
   ]
  },
  {
   "cell_type": "code",
   "execution_count": 17,
   "metadata": {
    "collapsed": false
   },
   "outputs": [],
   "source": [
    "sev=[61.546072550041934, 84.97647613068814, 65.13396944477087, 37.19324943172229, 58.19689948863737, 88.83129942741698, 96.4474311068178,\n",
    "     31.27684739143246, 62.65930695700155, 93.71047115494585, 38.09790000523381, 90.7014833868966, 79.11297306877303, 89.79906516765735]\n",
    "type1=[94.19595653899898, 93.24196793420171, 79.2271452107817, 82.07586220401771, 84.74448262373697, 80.92713411061554, 95.07333074750915,\n",
    "      61.50464570763735, 69.084349145467, 90.94769522722223, 78.6862755689871, 83.32080662099594, 98.5091108114785, 76.09485720540842]"
   ]
  },
  {
   "cell_type": "code",
   "execution_count": 22,
   "metadata": {
    "collapsed": false
   },
   "outputs": [
    {
     "name": "stdout",
     "output_type": "stream",
     "text": [
      "Accuracy for severity: 69.8345317651 %\n",
      "Accuracy for type    : 83.4024014041 %\n"
     ]
    }
   ],
   "source": [
    "import random\n",
    "from deap import creator, base, tools, algorithms\n",
    "import numpy as np\n",
    "\n",
    "creator.create(\"FitnessMax\", base.Fitness, weights=(-1.0,))\n",
    "creator.create(\"Individual\", list, fitness=creator.FitnessMin)\n",
    "\n",
    "toolbox = base.Toolbox()\n",
    "\n",
    "toolbox.register(\"attr_bool\", attrs,60,100)\n",
    "toolbox.register(\"individual\", tools.initRepeat, creator.Individual, toolbox.attr_bool, n=12)\n",
    "toolbox.register(\"population\", tools.initRepeat, list, toolbox.individual)\n",
    "\n",
    "def evalOneMax(individual):\n",
    "    return sum(individual),\n",
    "\n",
    "toolbox.register(\"evaluate\", evalOneMax)\n",
    "toolbox.register(\"mate\", tools.cxTwoPoint)\n",
    "toolbox.register(\"mutate\", tools.mutFlipBit, indpb=0.1)\n",
    "toolbox.register(\"select\", tools.selTournament, tournsize=popu)\n",
    "\n",
    "population = toolbox.population(n=600)\n",
    "\n",
    "NGEN=40\n",
    "for gen in range(NGEN):\n",
    "    offspring = algorithms.varAnd(population, toolbox, cxpb=0.25, mutpb=0.1)\n",
    "    fits = toolbox.map(toolbox.evaluate, offspring)\n",
    "    for fit, ind in zip(fits, offspring):\n",
    "        ind.fitness.values = fit\n",
    "    population = toolbox.select(offspring, k=len(population))\n",
    "top10 = tools.selBest(population, k=10)\n",
    "\n",
    "\n",
    "acc=np.mean(sev)\n",
    "print \"Accuracy for severity:\",acc,\"%\"\n",
    "\n",
    "\n",
    "type1=np.array(type1)\n",
    "acc1=np.mean(type1)\n",
    "print \"Accuracy for type    :\",acc1,\"%\""
   ]
  },
  {
   "cell_type": "code",
   "execution_count": null,
   "metadata": {
    "collapsed": true
   },
   "outputs": [],
   "source": []
  }
 ],
 "metadata": {
  "kernelspec": {
   "display_name": "Python 2",
   "language": "python",
   "name": "python2"
  },
  "language_info": {
   "codemirror_mode": {
    "name": "ipython",
    "version": 2
   },
   "file_extension": ".py",
   "mimetype": "text/x-python",
   "name": "python",
   "nbconvert_exporter": "python",
   "pygments_lexer": "ipython2",
   "version": "2.7.11"
  }
 },
 "nbformat": 4,
 "nbformat_minor": 0
}
